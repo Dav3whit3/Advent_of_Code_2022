{
  "cells": [
    {
      "cell_type": "code",
      "execution_count": 1,
      "metadata": {},
      "outputs": [],
      "source": [
        "import sys\n",
        "sys.path.append(\"/Users/davidblanco/Documents/personal/Advent_of_Code_2022/\")\n",
        "from utils import Input\n",
        "from functools import reduce\n",
        "from string import ascii_letters\n",
        "from itertools import islice\n",
        "from typing import Iterator, Callable"
      ]
    },
    {
      "cell_type": "code",
      "execution_count": 2,
      "metadata": {},
      "outputs": [
        {
          "data": {
            "text/plain": [
              "['11-73,29-73', '43-82,44-44', '13-85,12-36']"
            ]
          },
          "execution_count": 2,
          "metadata": {},
          "output_type": "execute_result"
        }
      ],
      "source": [
        "input = Input(day=4).get_list(split_by=\"\\n\")\n",
        "input[:3]"
      ]
    },
    {
      "cell_type": "code",
      "execution_count": 3,
      "metadata": {},
      "outputs": [],
      "source": [
        "class CampCleanup:\n",
        "\n",
        "    def __init__(self, input: list[str]):\n",
        "        self.input = list(map(lambda row: tuple(map(int, \"-\".join(row.split(\",\")).split(\"-\"))), input))\n",
        "\n",
        "\n",
        "    def get_range(self, pair: tuple) -> tuple[range, range]:\n",
        "        return range(pair[0], pair[1] + 1), range(pair[2], pair[3] + 1)\n",
        "\n",
        "\n",
        "    def is_contained(self, pairs: tuple, function: Callable) -> int:\n",
        "        range_1, range_2 = self.get_range(pairs)\n",
        "\n",
        "        if function(n in range_1 for n in range_2) \\\n",
        "        or function(n in range_2 for n in range_1):\n",
        "            return 1\n",
        "\n",
        "        return 0\n",
        "\n",
        "\n",
        "    def solve(self, part: int) -> int:\n",
        "        function = all if part == 1 else any\n",
        "        return reduce(lambda acc, pairs: acc + self.is_contained(pairs=pairs, function=function), self.input, 0)\n",
        "             "
      ]
    },
    {
      "cell_type": "code",
      "execution_count": 4,
      "metadata": {},
      "outputs": [
        {
          "name": "stdout",
          "output_type": "stream",
          "text": [
            "Result:  528\n",
            "Result:  881\n"
          ]
        }
      ],
      "source": [
        "test = [\"2-8,3-7\", \"6-6,4-6\", \"2-4,6-8\", \"2-3,4-5\", \"5-7,7-9\", \"2-6,4-8\", '3-3,7-31']\n",
        "cleaner = CampCleanup(input)\n",
        "print(\"Result: \", cleaner.solve(part=1))\n",
        "print(\"Result: \", cleaner.solve(part=2))"
      ]
    },
    {
      "cell_type": "code",
      "execution_count": null,
      "metadata": {},
      "outputs": [],
      "source": []
    }
  ],
  "metadata": {
    "kernelspec": {
      "display_name": "Python 3.10.8 64-bit ('fastapi': conda)",
      "language": "python",
      "name": "python3"
    },
    "language_info": {
      "codemirror_mode": {
        "name": "ipython",
        "version": 3
      },
      "file_extension": ".py",
      "mimetype": "text/x-python",
      "name": "python",
      "nbconvert_exporter": "python",
      "pygments_lexer": "ipython3",
      "version": "3.10.8"
    },
    "orig_nbformat": 4,
    "vscode": {
      "interpreter": {
        "hash": "28421943981a70d99a374bb53323660822881a87c33dbc5675583717fdb30814"
      }
    }
  },
  "nbformat": 4,
  "nbformat_minor": 2
}
