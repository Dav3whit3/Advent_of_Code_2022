{
 "cells": [
  {
   "cell_type": "code",
   "execution_count": null,
   "metadata": {},
   "outputs": [],
   "source": [
    "import sys, json\n",
    "sys.path.append(\"/Users/davidblanco/Documents/personal/Advent_of_Code_2022/\")\n",
    "from utils import Input\n",
    "from functools import reduce"
   ]
  },
  {
   "cell_type": "code",
   "execution_count": null,
   "metadata": {},
   "outputs": [],
   "source": [
    "input = Input(day=7).get_list(split_by=\"\\n\")"
   ]
  },
  {
   "cell_type": "code",
   "execution_count": null,
   "metadata": {},
   "outputs": [],
   "source": [
    "test = ['$ cd /',\n",
    " '$ ls',\n",
    " 'dir a',\n",
    " '14848514 b.txt',\n",
    " '8504156 c.dat',\n",
    " 'dir d',\n",
    " '$ cd a',\n",
    " '$ ls',\n",
    " 'dir e',\n",
    " '29116 f',\n",
    " '2557 g',\n",
    " '62596 h.lst',\n",
    " '$ cd e',\n",
    " '$ ls',\n",
    " '584 i',\n",
    " '$ cd ..',\n",
    " '$ cd ..',\n",
    " '$ cd d',\n",
    " '$ ls',\n",
    " '4060174 j',\n",
    " '8033020 d.log',\n",
    " '5626152 d.ext',\n",
    " '7214296 k']\n",
    "\n",
    "test = [*filter(lambda cmd: \"$ ls\" not in cmd, test)]"
   ]
  },
  {
   "cell_type": "code",
   "execution_count": 13,
   "metadata": {},
   "outputs": [
    {
     "name": "stdout",
     "output_type": "stream",
     "text": [
      "{\n",
      "    \"/\": {\n",
      "        \"size\": 48381165,\n",
      "        \"a\": {\n",
      "            \"size\": 94853,\n",
      "            \"e\": {\n",
      "                \"size\": 584,\n",
      "                \"i\": \"584\"\n",
      "            },\n",
      "            \"f\": \"29116\",\n",
      "            \"g\": \"2557\",\n",
      "            \"h.lst\": \"62596\"\n",
      "        },\n",
      "        \"b.txt\": \"14848514\",\n",
      "        \"c.dat\": \"8504156\",\n",
      "        \"d\": {\n",
      "            \"size\": 24933642,\n",
      "            \"j\": \"4060174\",\n",
      "            \"d.log\": \"8033020\",\n",
      "            \"d.ext\": \"5626152\",\n",
      "            \"k\": \"7214296\"\n",
      "        }\n",
      "    },\n",
      "    \"small_dirs\": [\n",
      "        \"a\",\n",
      "        \"e\",\n",
      "        \"a\"\n",
      "    ]\n",
      "} \n",
      "\n"
     ]
    }
   ],
   "source": [
    "tree = {\n",
    "    \"/\": {\n",
    "        \"size\": 0,\n",
    "    },\n",
    "    \"small_dirs\": []\n",
    "}\n",
    "\n",
    "parent = \"/\"\n",
    "current = \"/\"\n",
    "path = \"/\"\n",
    "\n",
    "\n",
    "def get_path_value(dictionary: dict, path: list[str]):\n",
    "    return reduce(lambda dic, key: dic[key], path, dictionary)\n",
    "\n",
    "\n",
    "def set_path_value(d: dict, path: list[str], key: str, value: str | int | dict):\n",
    "    d = get_path_value(d, path[:-1])\n",
    "    d[path[-1]][key] = value\n",
    "\n",
    "\n",
    "def update_path_size(path: str, size: int, tree: dict):\n",
    "    for index, _ in enumerate(path, start=1):\n",
    "        node_path = path[0 : index]\n",
    "        dir_size = get_path_value(tree, list(node_path))[\"size\"]\n",
    "        set_path_value(tree, list(node_path), \"size\", dir_size + size)\n",
    "\n",
    "        if dir_size + size >= 100000:\n",
    "            tree[\"small_dirs\"] = [*filter(lambda dir: dir != node_path, tree[\"small_dirs\"])]\n",
    "\n",
    "\n",
    "def move(path: str, new_directoy: str, out: bool = False):\n",
    "    new_path = path[:-1] if out else f\"{path}{new_directoy}\"\n",
    "    try:    parent = path[-2]\n",
    "    except: parent = path[-1]\n",
    "\n",
    "    return new_path, path[-1], parent\n",
    "\n",
    "\n",
    "\n",
    "for cmd in test[1:]:\n",
    "    \n",
    "    # commands\n",
    "    if cmd.startswith(\"$ cd \"):\n",
    "\n",
    "        new_directoy = cmd.split(\"$ cd \")[1]\n",
    "        \n",
    "        if new_directoy == \"..\":\n",
    "            path, current, parent = move(path, new_directoy, out=True)\n",
    "\n",
    "        else:\n",
    "            path, current, parent = move(path, new_directoy)\n",
    "\n",
    "        tree[\"small_dirs\"].append(current)\n",
    "\n",
    "    # dir info\n",
    "    else:\n",
    "        if cmd.startswith(\"dir\"):\n",
    "            dir = cmd.split(\"dir \")[1]\n",
    "            set_path_value(tree, list(path), dir, {\"size\": 0})\n",
    "\n",
    "        else:\n",
    "            file, size = cmd.split(\" \")[1], cmd.split(\" \")[0]\n",
    "            set_path_value(tree, list(path), file, size)\n",
    "            update_path_size(path, int(size), tree)\n",
    "\n",
    "        \n",
    "\n",
    "print(json.dumps(tree, indent=4), \"\\n\")"
   ]
  },
  {
   "cell_type": "code",
   "execution_count": 14,
   "metadata": {},
   "outputs": [
    {
     "name": "stdout",
     "output_type": "stream",
     "text": [
      "{'e', 'a'}\n"
     ]
    }
   ],
   "source": [
    "print(set(tree[\"small_dirs\"]))\n",
    "\n"
   ]
  },
  {
   "cell_type": "code",
   "execution_count": null,
   "metadata": {},
   "outputs": [],
   "source": [
    "[1, 2, 3][0:3]"
   ]
  },
  {
   "cell_type": "code",
   "execution_count": null,
   "metadata": {},
   "outputs": [],
   "source": [
    "a"
   ]
  },
  {
   "cell_type": "code",
   "execution_count": null,
   "metadata": {},
   "outputs": [],
   "source": []
  }
 ],
 "metadata": {
  "kernelspec": {
   "display_name": "Python 3.10.8 64-bit ('fastapi': conda)",
   "language": "python",
   "name": "python3"
  },
  "language_info": {
   "codemirror_mode": {
    "name": "ipython",
    "version": 3
   },
   "file_extension": ".py",
   "mimetype": "text/x-python",
   "name": "python",
   "nbconvert_exporter": "python",
   "pygments_lexer": "ipython3",
   "version": "3.10.8"
  },
  "orig_nbformat": 4,
  "vscode": {
   "interpreter": {
    "hash": "28421943981a70d99a374bb53323660822881a87c33dbc5675583717fdb30814"
   }
  }
 },
 "nbformat": 4,
 "nbformat_minor": 2
}
