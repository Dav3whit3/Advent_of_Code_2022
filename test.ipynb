{
 "cells": [
  {
   "cell_type": "code",
   "execution_count": null,
   "metadata": {},
   "outputs": [],
   "source": [
    "import os, dotenv\n",
    "import traceback\n",
    "dotenv.load_dotenv()\n",
    "from selenium import webdriver\n",
    "from selenium.webdriver.chrome.options import Options\n",
    "from selenium.webdriver.common.keys import Keys\n",
    "from selenium.webdriver.common.by import By\n",
    "\n",
    "\n",
    "chrome_options = Options()\n",
    "chrome_options.add_argument(\"--headless\")\n",
    "\n",
    "driver = webdriver.Chrome(options=chrome_options)\n",
    "url: str = \"https://adventofcode.com/2022/day/5\"\n",
    "driver.get(url)\n",
    "\n",
    "cookie = str(os.getenv(\"COOKIE\"))\n",
    "# driver.add_cookie({\"name\": \"_ga\", \"value\": \"GA1.2.1538360304.1669116444\"})\n",
    "# driver.add_cookie({\"name\": \"_gid\", \"value\": \"A1.2.24512349.1669116444\"})\n",
    "# driver.add_cookie({\"name\": \"session\", \"value\": \"53616c7465645f5f8b54e63e2780c1a678fcdbfb852832cfa0bb6268ed3ccab39b681162ece649e2d3efcaae3705afd3913937e710067ccec4fdaf9e1bc7d891\"})\n",
    "driver.add_cookie({\"name\": \"cookie\", \"value\": \"_ga=GA1.2.1538360304.1669116444; _gid=GA1.2.24512349.1669116444; session=53616c7465645f5f8b54e63e2780c1a678fcdbfb852832cfa0bb6268ed3ccab39b681162ece649e2d3efcaae3705afd3913937e710067ccec4fdaf9e1bc7d891\"})\n",
    "element = driver.find_element(by=By.TAG_NAME, value=\"p\")\n",
    "print(element.text)\n",
    "print(driver.get_cookies())\n",
    "\n",
    "# except Exception as e:\n",
    "#     print(e)\n",
    "#     traceback.print_exc()"
   ]
  },
  {
   "cell_type": "code",
   "execution_count": null,
   "metadata": {},
   "outputs": [],
   "source": [
    "str(os.getenv(\"COOKIE\"))"
   ]
  },
  {
   "cell_type": "code",
   "execution_count": null,
   "metadata": {},
   "outputs": [],
   "source": [
    "import requests\n",
    "endpoint: str = f\"https://adventofcode.com/2022/day/{4}\"\n",
    "headers: dict = {\"cookie\": str(os.getenv(\"COOKIE\"))}\n",
    "response = requests.get(endpoint, headers=headers)\n",
    "content: str = response.content.decode(\"utf-8\").strip()\n",
    "\n",
    "response.content"
   ]
  },
  {
   "cell_type": "code",
   "execution_count": null,
   "metadata": {},
   "outputs": [],
   "source": [
    "cookie = str(os.getenv(\"COOKIE\"))\n",
    "response.cookies.set_cookie(cookie={\"name\": \"cookie\", \"value\": cookie})"
   ]
  },
  {
   "cell_type": "code",
   "execution_count": null,
   "metadata": {},
   "outputs": [],
   "source": [
    "str(os.getenv(\"COOKIE\"))"
   ]
  },
  {
   "cell_type": "code",
   "execution_count": null,
   "metadata": {},
   "outputs": [],
   "source": []
  }
 ],
 "metadata": {
  "kernelspec": {
   "display_name": "Python 3.10.8 64-bit ('fastapi': conda)",
   "language": "python",
   "name": "python3"
  },
  "language_info": {
   "codemirror_mode": {
    "name": "ipython",
    "version": 3
   },
   "file_extension": ".py",
   "mimetype": "text/x-python",
   "name": "python",
   "nbconvert_exporter": "python",
   "pygments_lexer": "ipython3",
   "version": "3.10.8"
  },
  "orig_nbformat": 4,
  "vscode": {
   "interpreter": {
    "hash": "28421943981a70d99a374bb53323660822881a87c33dbc5675583717fdb30814"
   }
  }
 },
 "nbformat": 4,
 "nbformat_minor": 2
}
