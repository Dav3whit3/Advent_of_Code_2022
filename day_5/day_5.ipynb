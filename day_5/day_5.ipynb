{
 "cells": [
  {
   "cell_type": "code",
   "execution_count": null,
   "metadata": {},
   "outputs": [],
   "source": [
    "import sys, os\n",
    "sys.path.append(\"/Users/davidblanco/Documents/personal/Advent_of_Code_2022/\")\n",
    "# from utils import Input\n",
    "# input = Input(day=5).get_string()\n",
    "# print(input.split(\"\\n 1\")[0].replace(\"    \", \" X \"))\n",
    "import requests\n",
    "from requests import Response\n",
    "import numpy as np\n",
    "\n",
    "day = 5\n",
    "endpoint: str = f\"https://adventofcode.com/2022/day/{day}/input\"\n",
    "headers: dict = {\"cookie\": str(os.getenv(\"COOKIE\"))}\n",
    "response: Response = requests.get(endpoint, headers=headers)\n",
    "content: str = response.content.decode(\"utf-8\")"
   ]
  },
  {
   "cell_type": "code",
   "execution_count": null,
   "metadata": {},
   "outputs": [],
   "source": [
    "crates = content.split(\"\\n 1\")[0]\n",
    "print(crates)"
   ]
  },
  {
   "cell_type": "code",
   "execution_count": null,
   "metadata": {},
   "outputs": [],
   "source": [
    "crates = [[row.replace(\"    \", \" x \").replace(\"  \", \" \")] for row in crates.split(\"\\n\")]\n",
    "crates = [[val for val in row[0].split(\" \") if val] for row in crates]\n",
    "crates"
   ]
  },
  {
   "cell_type": "code",
   "execution_count": null,
   "metadata": {},
   "outputs": [],
   "source": [
    "crates = np.transpose(crates).tolist() # type: ignore\n",
    "crates = [list(reversed(lst)) for lst in crates]\n",
    "crates = [[val.replace(\"[\", \"\").replace(\"]\", \"\") for val in row if val != 'x'] for row in crates]\n",
    "# [::-1,::-1]\n",
    "crates"
   ]
  },
  {
   "cell_type": "code",
   "execution_count": null,
   "metadata": {},
   "outputs": [],
   "source": [
    "procedure = content.split(\"\\n\\n\")[1].strip().split(\"\\n\")\n",
    "\n",
    "fn = lambda value: value.replace(\"move\", \"\").replace(\"from\", \"\").replace(\"to\", \"\")\n",
    "procedure = list(map(fn, procedure))"
   ]
  },
  {
   "cell_type": "code",
   "execution_count": null,
   "metadata": {},
   "outputs": [],
   "source": [
    "# 496\n",
    "for inst in procedure[:3]:\n",
    "    print(inst)\n",
    "    ammount, source, destination = [int(value) for value in inst.split()]\n",
    "    \n",
    "    to_move = crates[source - 1][:ammount]\n",
    "    print(to_move)\n",
    "    crates[destination - 1].extend(list(reversed(to_move)))\n",
    "    print(crates[destination - 1])\n",
    "    crates[source - 1] = crates[source - 1][ammount:]\n",
    "    print(crates[source - 1])\n",
    "\n",
    "\n",
    "crates"
   ]
  },
  {
   "cell_type": "code",
   "execution_count": null,
   "metadata": {},
   "outputs": [],
   "source": [
    "\"\".join([row[-1] for row in crates if row])"
   ]
  },
  {
   "cell_type": "code",
   "execution_count": null,
   "metadata": {},
   "outputs": [],
   "source": [
    "content"
   ]
  },
  {
   "cell_type": "code",
   "execution_count": null,
   "metadata": {},
   "outputs": [],
   "source": [
    "import requests\n",
    "from requests import Response\n",
    "\n",
    "data = {\n",
    "    \"answer\": \"CMZ\"\n",
    "}\n",
    "headers: dict = {\"cookie\": str(os.getenv(\"COOKIE\"))}\n",
    "url: str = \"https://adventofcode.com/2022/day/5\"\n",
    "response: Response = requests.get(url=url, headers=headers)\n",
    "response"
   ]
  },
  {
   "cell_type": "code",
   "execution_count": null,
   "metadata": {},
   "outputs": [],
   "source": [
    "response.html"
   ]
  },
  {
   "cell_type": "code",
   "execution_count": null,
   "metadata": {},
   "outputs": [],
   "source": [
    "from bs4 import BeautifulSoup\n",
    "\n",
    "soup = BeautifulSoup(response.content)\n",
    "soup.find_all(\"form\")"
   ]
  },
  {
   "cell_type": "code",
   "execution_count": 27,
   "metadata": {},
   "outputs": [
    {
     "ename": "InvalidArgumentException",
     "evalue": "Message: invalid argument: missing 'name'\n  (Session info: headless chrome=107.0.5304.121)\nStacktrace:\n0   chromedriver                        0x000000010f9472c8 chromedriver + 4752072\n1   chromedriver                        0x000000010f8c7463 chromedriver + 4228195\n2   chromedriver                        0x000000010f52ab18 chromedriver + 441112\n3   chromedriver                        0x000000010f5b2ce6 chromedriver + 998630\n4   chromedriver                        0x000000010f588d02 chromedriver + 826626\n5   chromedriver                        0x000000010f5a1134 chromedriver + 926004\n6   chromedriver                        0x000000010f588b33 chromedriver + 826163\n7   chromedriver                        0x000000010f5599fd chromedriver + 633341\n8   chromedriver                        0x000000010f55b051 chromedriver + 639057\n9   chromedriver                        0x000000010f91430e chromedriver + 4543246\n10  chromedriver                        0x000000010f918a88 chromedriver + 4561544\n11  chromedriver                        0x000000010f9206df chromedriver + 4593375\n12  chromedriver                        0x000000010f9198fa chromedriver + 4565242\n13  chromedriver                        0x000000010f8ef2cf chromedriver + 4391631\n14  chromedriver                        0x000000010f9385b8 chromedriver + 4691384\n15  chromedriver                        0x000000010f938739 chromedriver + 4691769\n16  chromedriver                        0x000000010f94e81e chromedriver + 4782110\n17  libsystem_pthread.dylib             0x00007ff80d7f6259 _pthread_start + 125\n18  libsystem_pthread.dylib             0x00007ff80d7f1c7b thread_start + 15\n",
     "output_type": "error",
     "traceback": [
      "\u001b[0;31m---------------------------------------------------------------------------\u001b[0m",
      "\u001b[0;31mInvalidArgumentException\u001b[0m                  Traceback (most recent call last)",
      "Cell \u001b[0;32mIn [27], line 11\u001b[0m\n\u001b[1;32m      9\u001b[0m driver \u001b[39m=\u001b[39m webdriver\u001b[39m.\u001b[39mChrome(options\u001b[39m=\u001b[39mchrome_options)\n\u001b[1;32m     10\u001b[0m url: \u001b[39mstr\u001b[39m \u001b[39m=\u001b[39m \u001b[39m\"\u001b[39m\u001b[39mhttps://adventofcode.com/2022/day/5\u001b[39m\u001b[39m\"\u001b[39m\n\u001b[0;32m---> 11\u001b[0m driver\u001b[39m.\u001b[39;49madd_cookie({\u001b[39m\"\u001b[39;49m\u001b[39mcookie\u001b[39;49m\u001b[39m\"\u001b[39;49m: \u001b[39mstr\u001b[39;49m(os\u001b[39m.\u001b[39;49mgetenv(\u001b[39m\"\u001b[39;49m\u001b[39mCOOKIE\u001b[39;49m\u001b[39m\"\u001b[39;49m))})\n\u001b[1;32m     12\u001b[0m driver\u001b[39m.\u001b[39mget(url)\n\u001b[1;32m     13\u001b[0m driver\u001b[39m.\u001b[39mfind_element(by\u001b[39m=\u001b[39mBy\u001b[39m.\u001b[39mTAG_NAME, value\u001b[39m=\u001b[39m\u001b[39m\"\u001b[39m\u001b[39mform\u001b[39m\u001b[39m\"\u001b[39m)\n",
      "File \u001b[0;32m~/opt/miniconda3/envs/fastapi/lib/python3.10/site-packages/selenium/webdriver/remote/webdriver.py:751\u001b[0m, in \u001b[0;36mWebDriver.add_cookie\u001b[0;34m(self, cookie_dict)\u001b[0m\n\u001b[1;32m    749\u001b[0m     \u001b[39mself\u001b[39m\u001b[39m.\u001b[39mexecute(Command\u001b[39m.\u001b[39mADD_COOKIE, {\u001b[39m\"\u001b[39m\u001b[39mcookie\u001b[39m\u001b[39m\"\u001b[39m: cookie_dict})\n\u001b[1;32m    750\u001b[0m \u001b[39melse\u001b[39;00m:\n\u001b[0;32m--> 751\u001b[0m     \u001b[39mself\u001b[39;49m\u001b[39m.\u001b[39;49mexecute(Command\u001b[39m.\u001b[39;49mADD_COOKIE, {\u001b[39m\"\u001b[39;49m\u001b[39mcookie\u001b[39;49m\u001b[39m\"\u001b[39;49m: cookie_dict})\n",
      "File \u001b[0;32m~/opt/miniconda3/envs/fastapi/lib/python3.10/site-packages/selenium/webdriver/remote/webdriver.py:444\u001b[0m, in \u001b[0;36mWebDriver.execute\u001b[0;34m(self, driver_command, params)\u001b[0m\n\u001b[1;32m    442\u001b[0m response \u001b[39m=\u001b[39m \u001b[39mself\u001b[39m\u001b[39m.\u001b[39mcommand_executor\u001b[39m.\u001b[39mexecute(driver_command, params)\n\u001b[1;32m    443\u001b[0m \u001b[39mif\u001b[39;00m response:\n\u001b[0;32m--> 444\u001b[0m     \u001b[39mself\u001b[39;49m\u001b[39m.\u001b[39;49merror_handler\u001b[39m.\u001b[39;49mcheck_response(response)\n\u001b[1;32m    445\u001b[0m     response[\u001b[39m\"\u001b[39m\u001b[39mvalue\u001b[39m\u001b[39m\"\u001b[39m] \u001b[39m=\u001b[39m \u001b[39mself\u001b[39m\u001b[39m.\u001b[39m_unwrap_value(response\u001b[39m.\u001b[39mget(\u001b[39m\"\u001b[39m\u001b[39mvalue\u001b[39m\u001b[39m\"\u001b[39m, \u001b[39mNone\u001b[39;00m))\n\u001b[1;32m    446\u001b[0m     \u001b[39mreturn\u001b[39;00m response\n",
      "File \u001b[0;32m~/opt/miniconda3/envs/fastapi/lib/python3.10/site-packages/selenium/webdriver/remote/errorhandler.py:249\u001b[0m, in \u001b[0;36mErrorHandler.check_response\u001b[0;34m(self, response)\u001b[0m\n\u001b[1;32m    247\u001b[0m         alert_text \u001b[39m=\u001b[39m value[\u001b[39m\"\u001b[39m\u001b[39malert\u001b[39m\u001b[39m\"\u001b[39m]\u001b[39m.\u001b[39mget(\u001b[39m\"\u001b[39m\u001b[39mtext\u001b[39m\u001b[39m\"\u001b[39m)\n\u001b[1;32m    248\u001b[0m     \u001b[39mraise\u001b[39;00m exception_class(message, screen, stacktrace, alert_text)  \u001b[39m# type: ignore[call-arg]  # mypy is not smart enough here\u001b[39;00m\n\u001b[0;32m--> 249\u001b[0m \u001b[39mraise\u001b[39;00m exception_class(message, screen, stacktrace)\n",
      "\u001b[0;31mInvalidArgumentException\u001b[0m: Message: invalid argument: missing 'name'\n  (Session info: headless chrome=107.0.5304.121)\nStacktrace:\n0   chromedriver                        0x000000010f9472c8 chromedriver + 4752072\n1   chromedriver                        0x000000010f8c7463 chromedriver + 4228195\n2   chromedriver                        0x000000010f52ab18 chromedriver + 441112\n3   chromedriver                        0x000000010f5b2ce6 chromedriver + 998630\n4   chromedriver                        0x000000010f588d02 chromedriver + 826626\n5   chromedriver                        0x000000010f5a1134 chromedriver + 926004\n6   chromedriver                        0x000000010f588b33 chromedriver + 826163\n7   chromedriver                        0x000000010f5599fd chromedriver + 633341\n8   chromedriver                        0x000000010f55b051 chromedriver + 639057\n9   chromedriver                        0x000000010f91430e chromedriver + 4543246\n10  chromedriver                        0x000000010f918a88 chromedriver + 4561544\n11  chromedriver                        0x000000010f9206df chromedriver + 4593375\n12  chromedriver                        0x000000010f9198fa chromedriver + 4565242\n13  chromedriver                        0x000000010f8ef2cf chromedriver + 4391631\n14  chromedriver                        0x000000010f9385b8 chromedriver + 4691384\n15  chromedriver                        0x000000010f938739 chromedriver + 4691769\n16  chromedriver                        0x000000010f94e81e chromedriver + 4782110\n17  libsystem_pthread.dylib             0x00007ff80d7f6259 _pthread_start + 125\n18  libsystem_pthread.dylib             0x00007ff80d7f1c7b thread_start + 15\n"
     ]
    }
   ],
   "source": [
    "from selenium import webdriver\n",
    "from selenium.webdriver.chrome.options import Options\n",
    "from selenium.webdriver.common.keys import Keys\n",
    "from selenium.webdriver.common.by import By\n",
    "\n",
    "chrome_options = Options()\n",
    "chrome_options.add_argument(\"--headless\")\n",
    "\n",
    "driver = webdriver.Chrome(options=chrome_options)\n",
    "url: str = \"https://adventofcode.com/2022/day/5\"\n",
    "driver.add_cookie({\"cookie\": str(os.getenv(\"COOKIE\"))})\n",
    "driver.get(url)\n",
    "driver.find_element(by=By.TAG_NAME, value=\"form\")"
   ]
  },
  {
   "cell_type": "code",
   "execution_count": null,
   "metadata": {},
   "outputs": [],
   "source": []
  }
 ],
 "metadata": {
  "kernelspec": {
   "display_name": "Python 3.10.8 64-bit ('fastapi': conda)",
   "language": "python",
   "name": "python3"
  },
  "language_info": {
   "codemirror_mode": {
    "name": "ipython",
    "version": 3
   },
   "file_extension": ".py",
   "mimetype": "text/x-python",
   "name": "python",
   "nbconvert_exporter": "python",
   "pygments_lexer": "ipython3",
   "version": "3.10.8"
  },
  "orig_nbformat": 4,
  "vscode": {
   "interpreter": {
    "hash": "28421943981a70d99a374bb53323660822881a87c33dbc5675583717fdb30814"
   }
  }
 },
 "nbformat": 4,
 "nbformat_minor": 2
}
